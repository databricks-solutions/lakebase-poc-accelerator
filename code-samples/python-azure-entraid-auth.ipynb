{
 "cells": [
  {
   "cell_type": "markdown",
   "metadata": {
    "application/vnd.databricks.v1+cell": {
     "cellMetadata": {},
     "inputWidgets": {},
     "nuid": "18a2c1cd-fad7-4c58-b7f5-e9a553b19a7d",
     "showTitle": false,
     "tableResultSettingsMap": {},
     "title": ""
    }
   },
   "source": [
    "# 🔐 Authenticate to Lakebase Instance with Azure EntraID Service Principal\n",
    "\n",
    "## 🧱 Step 1: Register an App in Entra ID\n",
    "- Go to **Azure Portal** → **Microsoft Entra ID** (formerly Azure Active Directory).\n",
    "- In the left menu, select **App registrations → + New registration**.\n",
    "- Give it a name (e.g., `databricks-spn`).\n",
    "- Choose **Accounts in this organizational directory only (default)**.\n",
    "- Click **Register**.\n",
    "- Once registered, note down:\n",
    "  - **Application (client) ID** → your `azure_client_id`\n",
    "  - **Directory (tenant) ID** → your `azure_tenant_id`\n",
    "\n",
    "---\n",
    "\n",
    "## 🔑 Step 2: Create a Client Secret\n",
    "- In the left sidebar, go to **Certificates & secrets → Client secrets**.\n",
    "- Click **+ New client secret**.\n",
    "- Enter a description (e.g., *for Databricks SDK*).\n",
    "- Choose an expiration period (1 year, 2 years, or custom).\n",
    "- Click **Add**.\n",
    "- Copy the **Value** immediately — this is your `azure_client_secret`.\n",
    "  - ⚠️ You won’t be able to view it again after leaving the page.\n",
    "\n",
    "---\n",
    "\n",
    "## 🧰 Step 3: Assign Permissions to Databricks Workspace\n",
    "You must authorize the Azure service principal to access the Databricks workspace.\n",
    "\n",
    "- In **Databricks Workspace**, go to:\n",
    "  - **Workspace settings → Identity and access → Service principals**\n",
    "- Click **Add Service Principal → Add New**.\n",
    "- Select **Microsoft Entra ID managed**  \n",
    "  *(Your service principal will link with an existing Microsoft Entra ID app and be managed externally.)*\n",
    "- Enter:\n",
    "  - **Microsoft Entra Application ID**\n",
    "  - **Service Principal Name**\n",
    "- Click **Create service principal**.\n",
    "- In the service principal configuration page:\n",
    "  - Enable **Databricks SQL access**.\n",
    "  - Enable **Workspace access** entitlements.\n",
    "\n",
    "---\n",
    "\n",
    "## 🧩 Step 4: Assign Permissions to Lakebase Instance\n",
    "- Go to your **Lakebase Database instance** page.\n",
    "- Navigate to **Permissions**.\n",
    "- Click **Add PostgreSQL role**.\n",
    "- Assign the `databricks_superuser` role to the Azure service principal.\n"
   ]
  },
  {
   "cell_type": "code",
   "execution_count": 0,
   "metadata": {
    "application/vnd.databricks.v1+cell": {
     "cellMetadata": {
      "byteLimit": 2048000,
      "rowLimit": 10000
     },
     "inputWidgets": {},
     "nuid": "b845c7e7-768f-40ed-8f54-a02f8fa13071",
     "showTitle": false,
     "tableResultSettingsMap": {},
     "title": ""
    }
   },
   "outputs": [],
   "source": [
    "%pip install --upgrade databricks-sdk\n",
    "%pip install sqlalchemy==1.4 psycopg[binary]\n",
    "%restart_python"
   ]
  },
  {
   "cell_type": "code",
   "execution_count": 0,
   "metadata": {
    "application/vnd.databricks.v1+cell": {
     "cellMetadata": {
      "byteLimit": 2048000,
      "rowLimit": 10000
     },
     "inputWidgets": {},
     "nuid": "f4214bb4-cd25-43ec-a860-f7c8d62542b0",
     "showTitle": false,
     "tableResultSettingsMap": {},
     "title": ""
    }
   },
   "outputs": [],
   "source": [
    "from databricks.sdk import WorkspaceClient\n",
    "\n",
    "# Azure AD Service Principal authentication\n",
    "w = WorkspaceClient(\n",
    "    host=\"https://<databricks-instance-url>\",\n",
    "    auth_type=\"azure-client-secret\",\n",
    "    azure_client_id=\"<azure-client-id>\",\n",
    "    azure_client_secret=\"<azure-client-secret>\",\n",
    "    azure_tenant_id=\"<azure-tenant-id>\"\n",
    ")\n",
    "\n",
    "# Verify connection\n",
    "me = w.current_user.me()\n",
    "print(f\"Authenticated as: {me.user_name}\")\n"
   ]
  },
  {
   "cell_type": "code",
   "execution_count": 0,
   "metadata": {
    "application/vnd.databricks.v1+cell": {
     "cellMetadata": {
      "byteLimit": 2048000,
      "rowLimit": 10000
     },
     "inputWidgets": {},
     "nuid": "88fa7a65-0a4b-4bf9-a165-1c2690ba495e",
     "showTitle": false,
     "tableResultSettingsMap": {},
     "title": ""
    }
   },
   "outputs": [],
   "source": [
    "import uuid\n",
    "instance_name = \"<postgres-instance-name>\"\n",
    "instance = w.database.get_database_instance(name=instance_name)\n",
    "cred = w.database.generate_database_credential(request_id=str(uuid.uuid4()), instance_names=[instance_name])\n",
    "print(instance)"
   ]
  },
  {
   "cell_type": "code",
   "execution_count": 0,
   "metadata": {
    "application/vnd.databricks.v1+cell": {
     "cellMetadata": {
      "byteLimit": 2048000,
      "rowLimit": 10000
     },
     "inputWidgets": {},
     "nuid": "97d1f25f-149f-498a-84f0-8f8ed6b469e2",
     "showTitle": false,
     "tableResultSettingsMap": {},
     "title": ""
    }
   },
   "outputs": [],
   "source": [
    "from sqlalchemy import create_engine, text\n",
    "\n",
    "from databricks.sdk import WorkspaceClient\n",
    "import uuid\n",
    "\n",
    "user = w.current_user.me().user_name\n",
    "host = instance.read_write_dns\n",
    "port = 5432\n",
    "database = \"databricks_postgres\"\n",
    "password = cred.token\n",
    "\n",
    "connection_pool = create_engine(f\"postgresql://{user}:{password}@{host}:{port}/{database}?sslmode=require\")\n",
    "\n",
    "with connection_pool.connect() as conn:\n",
    "    result = conn.execute(text(\"SELECT version()\"))\n",
    "    for row in result:\n",
    "        print(f\"Connected to PostgreSQL database. Version: {row}\")"
   ]
  }
 ],
 "metadata": {
  "application/vnd.databricks.v1+notebook": {
   "computePreferences": null,
   "dashboards": [],
   "environmentMetadata": null,
   "inputWidgetPreferences": null,
   "language": "python",
   "notebookMetadata": {
    "pythonIndentUnit": 2
   },
   "notebookName": "azure-entraid-auth",
   "widgets": {}
  },
  "language_info": {
   "name": "python"
  }
 },
 "nbformat": 4,
 "nbformat_minor": 0
}
