{
 "cells": [
  {
   "cell_type": "code",
   "execution_count": 1,
   "metadata": {
    "application/vnd.databricks.v1+cell": {
     "cellMetadata": {
      "byteLimit": 2048000,
      "rowLimit": 10000
     },
     "inputWidgets": {},
     "nuid": "e859c45d-bb54-4c20-895b-612b954caa83",
     "showTitle": false,
     "tableResultSettingsMap": {},
     "title": ""
    }
   },
   "outputs": [
    {
     "name": "stdout",
     "output_type": "stream",
     "text": [
      "Requirement already satisfied: databricks-sdk in /opt/homebrew/lib/python3.10/site-packages (0.61.0)\n",
      "Requirement already satisfied: requests<3,>=2.28.1 in /opt/homebrew/lib/python3.10/site-packages (from databricks-sdk) (2.31.0)\n",
      "Requirement already satisfied: google-auth~=2.0 in /opt/homebrew/lib/python3.10/site-packages (from databricks-sdk) (2.28.2)\n",
      "Requirement already satisfied: cachetools<6.0,>=2.0.0 in /opt/homebrew/lib/python3.10/site-packages (from google-auth~=2.0->databricks-sdk) (5.3.3)\n",
      "Requirement already satisfied: pyasn1-modules>=0.2.1 in /opt/homebrew/lib/python3.10/site-packages (from google-auth~=2.0->databricks-sdk) (0.3.0)\n",
      "Requirement already satisfied: rsa<5,>=3.1.4 in /opt/homebrew/lib/python3.10/site-packages (from google-auth~=2.0->databricks-sdk) (4.9)\n",
      "Requirement already satisfied: charset-normalizer<4,>=2 in /opt/homebrew/lib/python3.10/site-packages (from requests<3,>=2.28.1->databricks-sdk) (3.3.2)\n",
      "Requirement already satisfied: idna<4,>=2.5 in /opt/homebrew/lib/python3.10/site-packages (from requests<3,>=2.28.1->databricks-sdk) (3.6)\n",
      "Requirement already satisfied: urllib3<3,>=1.21.1 in /opt/homebrew/lib/python3.10/site-packages (from requests<3,>=2.28.1->databricks-sdk) (2.2.1)\n",
      "Requirement already satisfied: certifi>=2017.4.17 in /opt/homebrew/lib/python3.10/site-packages (from requests<3,>=2.28.1->databricks-sdk) (2024.2.2)\n",
      "Requirement already satisfied: pyasn1<0.6.0,>=0.4.6 in /opt/homebrew/lib/python3.10/site-packages (from pyasn1-modules>=0.2.1->google-auth~=2.0->databricks-sdk) (0.5.1)\n",
      "\n",
      "\u001b[1m[\u001b[0m\u001b[34;49mnotice\u001b[0m\u001b[1;39;49m]\u001b[0m\u001b[39;49m A new release of pip is available: \u001b[0m\u001b[31;49m24.3.1\u001b[0m\u001b[39;49m -> \u001b[0m\u001b[32;49m25.2\u001b[0m\n",
      "\u001b[1m[\u001b[0m\u001b[34;49mnotice\u001b[0m\u001b[1;39;49m]\u001b[0m\u001b[39;49m To update, run: \u001b[0m\u001b[32;49mpython3.10 -m pip install --upgrade pip\u001b[0m\n",
      "Note: you may need to restart the kernel to use updated packages.\n"
     ]
    }
   ],
   "source": [
    "%pip install databricks-sdk --upgrade"
   ]
  },
  {
   "cell_type": "code",
   "execution_count": 2,
   "metadata": {},
   "outputs": [
    {
     "name": "stdout",
     "output_type": "stream",
     "text": [
      "Requirement already satisfied: psycopg2-binary in /opt/homebrew/lib/python3.10/site-packages (2.9.10)\n",
      "\n",
      "\u001b[1m[\u001b[0m\u001b[34;49mnotice\u001b[0m\u001b[1;39;49m]\u001b[0m\u001b[39;49m A new release of pip is available: \u001b[0m\u001b[31;49m24.3.1\u001b[0m\u001b[39;49m -> \u001b[0m\u001b[32;49m25.2\u001b[0m\n",
      "\u001b[1m[\u001b[0m\u001b[34;49mnotice\u001b[0m\u001b[1;39;49m]\u001b[0m\u001b[39;49m To update, run: \u001b[0m\u001b[32;49mpython3.10 -m pip install --upgrade pip\u001b[0m\n",
      "Note: you may need to restart the kernel to use updated packages.\n"
     ]
    }
   ],
   "source": [
    "%pip install psycopg2-binary"
   ]
  },
  {
   "cell_type": "code",
   "execution_count": 19,
   "metadata": {},
   "outputs": [],
   "source": [
    "def get_all_products(connection):\n",
    "    \"\"\"Get all products with profit margins from the syncedcandy table.\"\"\"\n",
    "    cursor = connection.cursor()\n",
    "    cursor.execute(\"\"\"\n",
    "        SELECT  * FROM \"default\".syncedcandy\n",
    "    \"\"\")\n",
    "    print(cursor.fetchall())\n",
    "\n",
    "def create_procedure_inline(connection):\n",
    "    \"\"\"\n",
    "    Create the procedure with ROUND fix inline.\n",
    "    \"\"\"\n",
    "    procedure_sql = \"\"\"\n",
    "    CREATE OR REPLACE PROCEDURE get_candy_analytics_multiple_results(\n",
    "        INOUT overall_cursor refcursor,\n",
    "        INOUT division_cursor refcursor,\n",
    "        INOUT factory_cursor refcursor\n",
    "    )\n",
    "    LANGUAGE plpgsql\n",
    "    AS $$\n",
    "    BEGIN\n",
    "        -- Open cursor for overall statistics\n",
    "        OPEN overall_cursor FOR\n",
    "            SELECT \n",
    "                COUNT(*) as total_products,\n",
    "                COUNT(DISTINCT \"Division\") as total_divisions,\n",
    "                COUNT(DISTINCT \"Factory\") as total_factories,\n",
    "                ROUND(CAST(AVG(\"Unit Price\") AS numeric), 2) as avg_price,\n",
    "                ROUND(CAST(AVG(\"Unit Cost\") AS numeric), 2) as avg_cost,\n",
    "                ROUND(CAST(AVG(\"Unit Price\" - \"Unit Cost\") AS numeric), 2) as avg_profit,\n",
    "                ROUND(CAST(MIN(\"Unit Price\") AS numeric), 2) as min_price,\n",
    "                ROUND(CAST(MAX(\"Unit Price\") AS numeric), 2) as max_price,\n",
    "                ROUND(CAST(SUM(\"Unit Price\" - \"Unit Cost\") AS numeric), 2) as total_profit\n",
    "            FROM \"default\".syncedcandy;\n",
    "        \n",
    "        -- Open cursor for division breakdown\n",
    "        OPEN division_cursor FOR\n",
    "            SELECT \n",
    "                \"Division\",\n",
    "                COUNT(*) as product_count,\n",
    "                ROUND(CAST(AVG(\"Unit Price\") AS numeric), 2) as avg_price,\n",
    "                ROUND(CAST(AVG(\"Unit Cost\") AS numeric), 2) as avg_cost,\n",
    "                ROUND(CAST(AVG(\"Unit Price\" - \"Unit Cost\") AS numeric), 2) as avg_profit,\n",
    "                ROUND(CAST(SUM(\"Unit Price\" - \"Unit Cost\") AS numeric), 2) as total_profit,\n",
    "                ROUND(CAST(MIN(\"Unit Price\") AS numeric), 2) as min_price,\n",
    "                ROUND(CAST(MAX(\"Unit Price\") AS numeric), 2) as max_price\n",
    "            FROM \"default\".syncedcandy\n",
    "            GROUP BY \"Division\"\n",
    "            ORDER BY \"Division\";\n",
    "        \n",
    "        -- Open cursor for factory breakdown\n",
    "        OPEN factory_cursor FOR\n",
    "            SELECT \n",
    "                \"Factory\",\n",
    "                COUNT(*) as product_count,\n",
    "                ROUND(CAST(AVG(\"Unit Price\") AS numeric), 2) as avg_price,\n",
    "                ROUND(CAST(AVG(\"Unit Cost\") AS numeric), 2) as avg_cost,\n",
    "                ROUND(CAST(AVG(\"Unit Price\" - \"Unit Cost\") AS numeric), 2) as avg_profit,\n",
    "                ROUND(CAST(SUM(\"Unit Price\" - \"Unit Cost\") AS numeric), 2) as total_profit,\n",
    "                ROUND(CAST(MIN(\"Unit Price\") AS numeric), 2) as min_price,\n",
    "                ROUND(CAST(MAX(\"Unit Price\") AS numeric), 2) as max_price\n",
    "            FROM \"default\".syncedcandy\n",
    "            GROUP BY \"Factory\"\n",
    "            ORDER BY \"Factory\";\n",
    "            \n",
    "    EXCEPTION\n",
    "        WHEN OTHERS THEN\n",
    "            RAISE NOTICE 'Error in get_candy_analytics_multiple_results: %', SQLERRM;\n",
    "            RAISE;\n",
    "    END;\n",
    "    $$;\n",
    "    \"\"\"\n",
    "    \n",
    "    try:\n",
    "        with connection.cursor() as cursor:\n",
    "            cursor.execute(procedure_sql)\n",
    "            connection.commit()\n",
    "            print(\"✅ Procedure created successfully!\")\n",
    "    except Exception as e:\n",
    "        print(f\"❌ Error: {e}\")\n",
    "        connection.rollback()\n",
    "        raise\n",
    "\n",
    "def test_candy_analytics_procedure(connection):\n",
    "    \"\"\"\n",
    "    Test the stored procedure and fetch data from each cursor.\n",
    "    \"\"\"\n",
    "    try:\n",
    "        with connection.cursor() as cursor:\n",
    "            # Call the stored procedure with cursor names\n",
    "            cursor.execute(\"\"\"CALL get_candy_analytics_multiple_results(%s, %s, %s)\"\"\", \n",
    "                          ['overall_cur', 'division_cur', 'factory_cur'])\n",
    "            \n",
    "            print(\"✅ Stored procedure executed successfully!\")\n",
    "            print(\"=\" * 60)\n",
    "            \n",
    "            # Fetch overall statistics\n",
    "            print(\"\\n📊 OVERALL STATISTICS:\")\n",
    "            print(\"-\" * 40)\n",
    "            cursor.execute('FETCH ALL FROM \"overall_cur\"')\n",
    "            overall_data = cursor.fetchall()\n",
    "            \n",
    "            # Get column names for overall stats\n",
    "            overall_columns = [desc[0] for desc in cursor.description]\n",
    "            \n",
    "            if overall_data:\n",
    "                overall_row = overall_data[0]\n",
    "                for i, value in enumerate(overall_row):\n",
    "                    print(f\"{overall_columns[i].replace('_', ' ').title()}: {value}\")\n",
    "            \n",
    "            # Fetch division breakdown\n",
    "            print(\"\\n🏭 DIVISION BREAKDOWN:\")\n",
    "            print(\"-\" * 40)\n",
    "            cursor.execute('FETCH ALL FROM \"division_cur\"')\n",
    "            division_data = cursor.fetchall()\n",
    "            division_columns = [desc[0] for desc in cursor.description]\n",
    "            \n",
    "            if division_data:\n",
    "                print(f\"{'Division':<20} {'Count':<8} {'Avg Price':<10} {'Avg Profit':<12} {'Total Profit':<12}\")\n",
    "                print(\"-\" * 70)\n",
    "                for row in division_data:\n",
    "                    division_dict = dict(zip(division_columns, row))\n",
    "                    print(f\"{division_dict['Division']:<20} \"\n",
    "                          f\"{division_dict['product_count']:<8} \"\n",
    "                          f\"${division_dict['avg_price']:<9} \"\n",
    "                          f\"${division_dict['avg_profit']:<11} \"\n",
    "                          f\"${division_dict['total_profit']:<11}\")\n",
    "            \n",
    "            # Fetch factory breakdown\n",
    "            print(\"\\n🏢 FACTORY BREAKDOWN:\")\n",
    "            print(\"-\" * 40)\n",
    "            cursor.execute('FETCH ALL FROM \"factory_cur\"')\n",
    "            factory_data = cursor.fetchall()\n",
    "            factory_columns = [desc[0] for desc in cursor.description]\n",
    "            \n",
    "            if factory_data:\n",
    "                print(f\"{'Factory':<20} {'Count':<8} {'Avg Price':<10} {'Avg Profit':<12} {'Total Profit':<12}\")\n",
    "                print(\"-\" * 70)\n",
    "                for row in factory_data:\n",
    "                    factory_dict = dict(zip(factory_columns, row))\n",
    "                    print(f\"{factory_dict['Factory']:<20} \"\n",
    "                          f\"{factory_dict['product_count']:<8} \"\n",
    "                          f\"${factory_dict['avg_price']:<9} \"\n",
    "                          f\"${factory_dict['avg_profit']:<11} \"\n",
    "                          f\"${factory_dict['total_profit']:<11}\")\n",
    "            \n",
    "            # Close the cursors\n",
    "            cursor.execute('CLOSE \"overall_cur\"')\n",
    "            cursor.execute('CLOSE \"division_cur\"')\n",
    "            cursor.execute('CLOSE \"factory_cur\"')\n",
    "            \n",
    "            print(\"\\n✅ All data fetched successfully!\")\n",
    "            \n",
    "            # Return the data for further use if needed\n",
    "            return {\n",
    "                'overall': {\n",
    "                    'columns': overall_columns,\n",
    "                    'data': overall_data\n",
    "                },\n",
    "                'divisions': {\n",
    "                    'columns': division_columns,\n",
    "                    'data': division_data\n",
    "                },\n",
    "                'factories': {\n",
    "                    'columns': factory_columns,\n",
    "                    'data': factory_data\n",
    "                }\n",
    "            }\n",
    "            \n",
    "    except Exception as e:\n",
    "        print(f\"❌ Error testing stored procedure: {e}\")\n",
    "        raise\n"
   ]
  },
  {
   "cell_type": "markdown",
   "metadata": {
    "application/vnd.databricks.v1+cell": {
     "cellMetadata": {},
     "inputWidgets": {},
     "nuid": "95fac5e6-4e3f-408b-8321-863a1e9a370f",
     "showTitle": false,
     "tableResultSettingsMap": {},
     "title": ""
    }
   },
   "source": [
    "# OAuth with User\n",
    "If you are a database owner, admin, or your Databricks identity has a corresponding Postgres role for the database instance, you can obtain an OAuth token from the UI, the Databricks CLI, or one of the Databricks SDKs (Python SDK or Java SDK) \n",
    "\n",
    "See: https://docs.databricks.com/aws/en/oltp/oauth?language=Python+SDK#obtain-an-oauth-token-in-a-user-to-machine-flow "
   ]
  },
  {
   "cell_type": "code",
   "execution_count": null,
   "metadata": {},
   "outputs": [],
   "source": [
    "# TODO: Update these variables\n",
    "instance_name = \"achille\"\n",
    "database = \"databricks_postgres\"\n",
    "port = 5432\n",
    "user = \"anhhoang.chu@databricks.com\""
   ]
  },
  {
   "cell_type": "code",
   "execution_count": null,
   "metadata": {},
   "outputs": [],
   "source": [
    "from databricks.sdk import WorkspaceClient\n",
    "import uuid\n",
    "\n",
    "import psycopg\n",
    "import string\n",
    "from psycopg_pool import ConnectionPool\n",
    "\n",
    "w = WorkspaceClient()\n",
    "\n",
    "instance = w.database.get_database_instance(name=instance_name)\n",
    "host = instance.read_write_dns\n",
    "cred = w.database.generate_database_credential(request_id=str(uuid.uuid4()), instance_names=[host])"
   ]
  },
  {
   "cell_type": "code",
   "execution_count": null,
   "metadata": {
    "application/vnd.databricks.v1+cell": {
     "cellMetadata": {
      "byteLimit": 2048000,
      "rowLimit": 10000
     },
     "inputWidgets": {},
     "nuid": "ca87252f-9d77-49f5-a5ed-4edd1ee90150",
     "showTitle": false,
     "tableResultSettingsMap": {},
     "title": ""
    }
   },
   "outputs": [
    {
     "name": "stdout",
     "output_type": "stream",
     "text": [
      "Connection pool created successfully\n",
      "Successfully received a connection from the pool\n",
      "Connected to PostgreSQL database. Version: ('PostgreSQL 16.8 on x86_64-pc-linux-gnu, compiled by gcc (Ubuntu 11.4.0-1ubuntu1~22.04) 11.4.0, 64-bit',)\n",
      "Connection returned to the pool\n"
     ]
    }
   ],
   "source": [
    "# Using Python SDK USING \n",
    "\n",
    "import psycopg2\n",
    "from psycopg2 import sql, pool\n",
    "import uuid\n",
    "\n",
    "\n",
    "# Create a connection pool\n",
    "connection_pool = psycopg2.pool.ThreadedConnectionPool(\n",
    "    minconn = 1,  # Minimum number of connections in the pool\n",
    "    maxconn = 10,  # Maximum number of connections in the pool\n",
    "    user = user,\n",
    "    password = cred.token,\n",
    "    host = host,\n",
    "    port = port,\n",
    "    sslmode='require',\n",
    "    database = database\n",
    ")\n",
    "if connection_pool:\n",
    "    print(\"Connection pool created successfully\")\n",
    "\n",
    "def executeWithPgConnection(execFn):\n",
    "    connection = None\n",
    "    try:\n",
    "        # Get a connection from the pool\n",
    "        connection = connection_pool.getconn()\n",
    "        if connection:\n",
    "            print(\"Successfully received a connection from the pool\")\n",
    "            execFn(connection)\n",
    "    finally:\n",
    "        # Release the connection back to the pool\n",
    "        if connection:\n",
    "            connection_pool.putconn(connection)\n",
    "            print(\"Connection returned to the pool\")\n",
    "\n",
    "def printVersion(connection):\n",
    "    cursor = connection.cursor()\n",
    "    cursor.execute(\"SELECT version()\")\n",
    "    version = cursor.fetchone()\n",
    "    print(f\"Connected to PostgreSQL database. Version: {version}\")\n",
    "\n",
    "executeWithPgConnection(printVersion)          "
   ]
  },
  {
   "cell_type": "code",
   "execution_count": 42,
   "metadata": {
    "application/vnd.databricks.v1+cell": {
     "cellMetadata": {
      "byteLimit": 2048000,
      "rowLimit": 10000
     },
     "inputWidgets": {},
     "nuid": "6f92f6ad-f9a4-4b7d-ad79-773db07e36d1",
     "showTitle": false,
     "tableResultSettingsMap": {},
     "title": ""
    }
   },
   "outputs": [
    {
     "name": "stdout",
     "output_type": "stream",
     "text": [
      "Successfully received a connection from the pool\n",
      "Connected to database. Found 15 products in syncedcandy table.\n",
      "Connection returned to the pool\n"
     ]
    }
   ],
   "source": [
    "def queryPostgresData(connection):\n",
    "    cursor = connection.cursor()\n",
    "    cursor.execute('SELECT COUNT(*) FROM \"default\".\"syncedcandy\"')\n",
    "    count = cursor.fetchone()[0]\n",
    "    print(f\"Connected to database. Found {count} products in syncedcandy table.\")\n",
    "\n",
    "executeWithPgConnection(queryPostgresData)"
   ]
  },
  {
   "cell_type": "code",
   "execution_count": null,
   "metadata": {
    "application/vnd.databricks.v1+cell": {
     "cellMetadata": {
      "byteLimit": 2048000,
      "rowLimit": 10000
     },
     "inputWidgets": {},
     "nuid": "35eb6adc-3e05-436d-b7e6-df713355c578",
     "showTitle": false,
     "tableResultSettingsMap": {},
     "title": ""
    }
   },
   "outputs": [
    {
     "name": "stdout",
     "output_type": "stream",
     "text": [
      "Successfully received a connection from the pool\n",
      "[('Chocolate', 'Wonka Bar - Nutty Crunch Surprise', \"Lot's O' Nuts\", 'CHO-NUT-13000', 3.49, 1.0), ('Chocolate', 'Wonka Bar - Fudge Mallows', \"Lot's O' Nuts\", 'CHO-FUD-51000', 3.6, 1.2), ('Chocolate', 'Wonka Bar -Scrumdiddlyumptious', \"Lot's O' Nuts\", 'CHO-SCR-58000', 3.6, 1.1), ('Chocolate', 'Wonka Bar - Milk Chocolate', \"Wicked Choccy's\", 'CHO-MIL-31000', 3.25, 1.14), ('Chocolate', 'Wonka Bar - Triple Dazzle Caramel', \"Wicked Choccy's\", 'CHO-TRI-54000', 3.75, 1.3), ('Sugar', 'Laffy Taffy', 'Sugar Shack', 'SUG-LAF-25000', 1.99, 0.75), ('Sugar', 'SweeTARTS', 'Sugar Shack', 'SUG-SWE-91000', 1.5, 0.8), ('Sugar', 'Nerds', 'Sugar Shack', 'SUG-NER-92000', 1.5, 0.8), ('Sugar', 'Fun Dip', 'Sugar Shack', 'SUG-FUN-75000', 1.5, 0.9), ('Other', 'Fizzy Lifting Drinks', 'Sugar Shack', 'OTH-FIZ-56000', 3.75, 1.5), ('Sugar', 'Everlasting Gobstopper', 'Secret Factory', 'SUG-EVE-47000', 10.0, 2.0), ('Sugar', 'Hair Toffee', 'The Other Factory', 'SUG-HAI-55000', 4.5, 1.0), ('Other', 'Lickable Wallpaper', 'Secret Factory', 'OTH-LIC-15000', 20.0, 10.0), ('Other', 'Wonka Gum', 'Secret Factory', 'OTH-GUM-21000', 1.25, 0.6), ('Other', 'Kazookles', 'The Other Factory', 'OTH-KAZ-38000', 3.25, 3.0)]\n",
      "Connection returned to the pool\n"
     ]
    }
   ],
   "source": [
    "executeWithPgConnection(get_all_products)"
   ]
  },
  {
   "cell_type": "code",
   "execution_count": null,
   "metadata": {},
   "outputs": [
    {
     "name": "stdout",
     "output_type": "stream",
     "text": [
      "Successfully received a connection from the pool\n",
      "✅ Procedure created successfully!\n",
      "Connection returned to the pool\n"
     ]
    }
   ],
   "source": [
    "executeWithPgConnection(create_procedure_inline)"
   ]
  },
  {
   "cell_type": "code",
   "execution_count": null,
   "metadata": {},
   "outputs": [
    {
     "name": "stdout",
     "output_type": "stream",
     "text": [
      "Successfully received a connection from the pool\n",
      "✅ Stored procedure executed successfully!\n",
      "============================================================\n",
      "\n",
      "📊 OVERALL STATISTICS:\n",
      "----------------------------------------\n",
      "Total Products: 15\n",
      "Total Divisions: 3\n",
      "Total Factories: 5\n",
      "Avg Price: 4.46\n",
      "Avg Cost: 1.81\n",
      "Avg Profit: 2.66\n",
      "Min Price: 1.25\n",
      "Max Price: 20.00\n",
      "Total Profit: 39.84\n",
      "\n",
      "🏭 DIVISION BREAKDOWN:\n",
      "----------------------------------------\n",
      "Division             Count    Avg Price  Avg Profit   Total Profit\n",
      "----------------------------------------------------------------------\n",
      "Chocolate            5        $3.54      $2.39        $11.95      \n",
      "Other                4        $7.06      $3.29        $13.15      \n",
      "Sugar                6        $3.50      $2.46        $14.74      \n",
      "\n",
      "🏢 FACTORY BREAKDOWN:\n",
      "----------------------------------------\n",
      "Factory              Count    Avg Price  Avg Profit   Total Profit\n",
      "----------------------------------------------------------------------\n",
      "Lot's O' Nuts        3        $3.56      $2.46        $7.39       \n",
      "Secret Factory       3        $10.42     $6.22        $18.65      \n",
      "Sugar Shack          5        $2.05      $1.10        $5.49       \n",
      "The Other Factory    2        $3.88      $1.88        $3.75       \n",
      "Wicked Choccy's      2        $3.50      $2.28        $4.56       \n",
      "\n",
      "✅ All data fetched successfully!\n",
      "Connection returned to the pool\n"
     ]
    }
   ],
   "source": [
    "# Execute the test\n",
    "result_data = executeWithPgConnection(test_candy_analytics_procedure)"
   ]
  },
  {
   "cell_type": "markdown",
   "metadata": {
    "application/vnd.databricks.v1+cell": {
     "cellMetadata": {},
     "inputWidgets": {},
     "nuid": "473dacba-0b7c-4b95-a2b0-c992a49903e4",
     "showTitle": false,
     "tableResultSettingsMap": {},
     "title": ""
    }
   },
   "source": [
    "# OAuth with Service Principal\n",
    "\n",
    "To enable secure, automated (machine-to-machine) access to the database instance, you must obtain an OAuth token using a Databricks service principal. This process involves configuring the service principal, generating credentials, and minting OAuth tokens for authentication. \n",
    "\n",
    "See: https://docs.databricks.com/aws/en/oltp/oauth?language=Python+SDK#obtain-an-oauth-token-in-a-machine-to-machine-flow \n",
    "\n",
    "1. Create a Service Principal\n",
    "  * Databricks Workspace -> Settings\n",
    "  * Identity and access\n",
    "  * Service Principals -> Manage\n",
    "  * Add service principal\n",
    "\n",
    "2. Create Client Secrets for the Service Principal\n",
    "  * Choose the Service Principale -> Secrets\n",
    "  * Generate Secrets -> Enter the time to live for the secret (OAuth secrets have a maximum lifetime of 730 days (two years))\n",
    "  * Copy and save the generated Secret and Client ID\n"
   ]
  },
  {
   "cell_type": "code",
   "execution_count": 3,
   "metadata": {},
   "outputs": [],
   "source": [
    "import dotenv\n",
    "\n",
    "dotenv.load_dotenv()\n",
    "\n",
    "client_id = os.getenv('CLIENT_ID')\n",
    "client_secret = os.getenv('CLIENT_SECRET')"
   ]
  },
  {
   "cell_type": "code",
   "execution_count": 13,
   "metadata": {
    "application/vnd.databricks.v1+cell": {
     "cellMetadata": {
      "byteLimit": 2048000,
      "rowLimit": 10000
     },
     "inputWidgets": {},
     "nuid": "83881433-4ad3-4045-a3ac-9fab3456b859",
     "showTitle": false,
     "tableResultSettingsMap": {},
     "title": ""
    }
   },
   "outputs": [],
   "source": [
    "# TODO: Update these variables\n",
    "workspace_url = 'https://e2-demo-field-eng.cloud.databricks.com/'\n",
    "instance_name = 'achille'\n",
    "database = \"databricks_postgres\"\n",
    "port = 5432\n",
    "\n",
    "client_id = client_id\n",
    "client_secret = client_secret\n",
    "user = \"anhhoang.chu@databricks.com\""
   ]
  },
  {
   "cell_type": "code",
   "execution_count": 14,
   "metadata": {
    "application/vnd.databricks.v1+cell": {
     "cellMetadata": {
      "byteLimit": 2048000,
      "rowLimit": 10000
     },
     "inputWidgets": {},
     "nuid": "bd82a602-c11a-4c62-b013-e4c2e8252a58",
     "showTitle": false,
     "tableResultSettingsMap": {},
     "title": ""
    }
   },
   "outputs": [
    {
     "name": "stdout",
     "output_type": "stream",
     "text": [
      "Connection pool created successfully\n"
     ]
    }
   ],
   "source": [
    "# Using Python SDK\n",
    "\n",
    "import psycopg2\n",
    "from psycopg2 import sql, pool\n",
    "\n",
    "from databricks.sdk import WorkspaceClient\n",
    "import uuid\n",
    "\n",
    "w = WorkspaceClient(host=workspace_url, client_id=client_id, client_secret=client_secret)\n",
    "\n",
    "instance = w.database.get_database_instance(name=instance_name)\n",
    "cred = w.database.generate_database_credential(request_id=str(uuid.uuid4()), instance_names=[instance_name])\n",
    "\n",
    "# Create a connection pool\n",
    "connection_pool = psycopg2.pool.ThreadedConnectionPool(\n",
    "    minconn = 1,  # Minimum number of connections in the pool\n",
    "    maxconn = 10,  # Maximum number of connections in the pool\n",
    "    user = user,\n",
    "    password = cred.token,\n",
    "    host = instance.read_write_dns,\n",
    "    port = '5432',\n",
    "    sslmode='require',\n",
    "    database = database\n",
    ")\n",
    "if connection_pool:\n",
    "    print(\"Connection pool created successfully\")\n",
    "\n",
    "\n",
    "def executeWithPgConnectionSp(execFn):\n",
    "    connection = None\n",
    "    try:\n",
    "        # Get a connection from the pool\n",
    "        connection = connection_pool.getconn()\n",
    "        if connection:\n",
    "            print(\"Successfully received a connection from the pool\")\n",
    "            execFn(connection)\n",
    "    finally:\n",
    "        # Release the connection back to the pool\n",
    "        if connection:\n",
    "            connection_pool.putconn(connection)\n",
    "            print(\"Connection returned to the pool\")"
   ]
  },
  {
   "cell_type": "code",
   "execution_count": 20,
   "metadata": {
    "application/vnd.databricks.v1+cell": {
     "cellMetadata": {
      "byteLimit": 2048000,
      "rowLimit": 10000
     },
     "inputWidgets": {},
     "nuid": "88fc6e9a-33c7-44d4-8dbc-edff2be87807",
     "showTitle": false,
     "tableResultSettingsMap": {},
     "title": ""
    }
   },
   "outputs": [
    {
     "name": "stdout",
     "output_type": "stream",
     "text": [
      "Successfully received a connection from the pool\n",
      "[('Chocolate', 'Wonka Bar - Nutty Crunch Surprise', \"Lot's O' Nuts\", 'CHO-NUT-13000', 3.49, 1.0), ('Chocolate', 'Wonka Bar - Fudge Mallows', \"Lot's O' Nuts\", 'CHO-FUD-51000', 3.6, 1.2), ('Chocolate', 'Wonka Bar -Scrumdiddlyumptious', \"Lot's O' Nuts\", 'CHO-SCR-58000', 3.6, 1.1), ('Chocolate', 'Wonka Bar - Milk Chocolate', \"Wicked Choccy's\", 'CHO-MIL-31000', 3.25, 1.14), ('Chocolate', 'Wonka Bar - Triple Dazzle Caramel', \"Wicked Choccy's\", 'CHO-TRI-54000', 3.75, 1.3), ('Sugar', 'Laffy Taffy', 'Sugar Shack', 'SUG-LAF-25000', 1.99, 0.75), ('Sugar', 'SweeTARTS', 'Sugar Shack', 'SUG-SWE-91000', 1.5, 0.8), ('Sugar', 'Nerds', 'Sugar Shack', 'SUG-NER-92000', 1.5, 0.8), ('Sugar', 'Fun Dip', 'Sugar Shack', 'SUG-FUN-75000', 1.5, 0.9), ('Other', 'Fizzy Lifting Drinks', 'Sugar Shack', 'OTH-FIZ-56000', 3.75, 1.5), ('Sugar', 'Everlasting Gobstopper', 'Secret Factory', 'SUG-EVE-47000', 10.0, 2.0), ('Sugar', 'Hair Toffee', 'The Other Factory', 'SUG-HAI-55000', 4.5, 1.0), ('Other', 'Lickable Wallpaper', 'Secret Factory', 'OTH-LIC-15000', 20.0, 10.0), ('Other', 'Wonka Gum', 'Secret Factory', 'OTH-GUM-21000', 1.25, 0.6), ('Other', 'Kazookles', 'The Other Factory', 'OTH-KAZ-38000', 3.25, 3.0)]\n",
      "Connection returned to the pool\n"
     ]
    }
   ],
   "source": [
    "executeWithPgConnectionSp(get_all_products)"
   ]
  },
  {
   "cell_type": "code",
   "execution_count": 21,
   "metadata": {},
   "outputs": [
    {
     "name": "stdout",
     "output_type": "stream",
     "text": [
      "Successfully received a connection from the pool\n",
      "✅ Procedure created successfully!\n",
      "Connection returned to the pool\n"
     ]
    }
   ],
   "source": [
    "executeWithPgConnectionSp(create_procedure_inline)"
   ]
  },
  {
   "cell_type": "code",
   "execution_count": 22,
   "metadata": {},
   "outputs": [
    {
     "name": "stdout",
     "output_type": "stream",
     "text": [
      "Successfully received a connection from the pool\n",
      "✅ Stored procedure executed successfully!\n",
      "============================================================\n",
      "\n",
      "📊 OVERALL STATISTICS:\n",
      "----------------------------------------\n",
      "Total Products: 15\n",
      "Total Divisions: 3\n",
      "Total Factories: 5\n",
      "Avg Price: 4.46\n",
      "Avg Cost: 1.81\n",
      "Avg Profit: 2.66\n",
      "Min Price: 1.25\n",
      "Max Price: 20.00\n",
      "Total Profit: 39.84\n",
      "\n",
      "🏭 DIVISION BREAKDOWN:\n",
      "----------------------------------------\n",
      "Division             Count    Avg Price  Avg Profit   Total Profit\n",
      "----------------------------------------------------------------------\n",
      "Chocolate            5        $3.54      $2.39        $11.95      \n",
      "Other                4        $7.06      $3.29        $13.15      \n",
      "Sugar                6        $3.50      $2.46        $14.74      \n",
      "\n",
      "🏢 FACTORY BREAKDOWN:\n",
      "----------------------------------------\n",
      "Factory              Count    Avg Price  Avg Profit   Total Profit\n",
      "----------------------------------------------------------------------\n",
      "Lot's O' Nuts        3        $3.56      $2.46        $7.39       \n",
      "Secret Factory       3        $10.42     $6.22        $18.65      \n",
      "Sugar Shack          5        $2.05      $1.10        $5.49       \n",
      "The Other Factory    2        $3.88      $1.88        $3.75       \n",
      "Wicked Choccy's      2        $3.50      $2.28        $4.56       \n",
      "\n",
      "✅ All data fetched successfully!\n",
      "Connection returned to the pool\n"
     ]
    }
   ],
   "source": [
    "result_data = executeWithPgConnectionSp(test_candy_analytics_procedure)"
   ]
  }
 ],
 "metadata": {
  "application/vnd.databricks.v1+notebook": {
   "computePreferences": null,
   "dashboards": [],
   "environmentMetadata": {
    "base_environment": "dbe_41a50460-c90b-4840-9288-afcb847395d5",
    "environment_version": "2"
   },
   "inputWidgetPreferences": null,
   "language": "python",
   "notebookMetadata": {
    "pythonIndentUnit": 2
   },
   "notebookName": "lakebase-demo",
   "widgets": {}
  },
  "kernelspec": {
   "display_name": "Python 3",
   "language": "python",
   "name": "python3"
  },
  "language_info": {
   "codemirror_mode": {
    "name": "ipython",
    "version": 3
   },
   "file_extension": ".py",
   "mimetype": "text/x-python",
   "name": "python",
   "nbconvert_exporter": "python",
   "pygments_lexer": "ipython3",
   "version": "3.10.16"
  }
 },
 "nbformat": 4,
 "nbformat_minor": 0
}
