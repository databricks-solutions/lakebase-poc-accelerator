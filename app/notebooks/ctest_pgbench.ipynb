{
 "cells": [
  {
   "cell_type": "markdown",
   "metadata": {
    "application/vnd.databricks.v1+cell": {
     "cellMetadata": {},
     "inputWidgets": {},
     "nuid": "9c4d52c4-66e0-4b0d-8c39-826e3b3032d4",
     "showTitle": false,
     "tableResultSettingsMap": {},
     "title": ""
    }
   },
   "source": [
    "## Install sdk"
   ]
  },
  {
   "cell_type": "code",
   "execution_count": 0,
   "metadata": {
    "application/vnd.databricks.v1+cell": {
     "cellMetadata": {},
     "inputWidgets": {},
     "nuid": "064cd245-9840-41a1-b9f5-4f35406d1df4",
     "showTitle": false,
     "tableResultSettingsMap": {},
     "title": ""
    }
   },
   "outputs": [],
   "source": [
    "## Setup Requirements\n",
    "%pip install --upgrade databricks-sdk"
   ]
  },
  {
   "cell_type": "code",
   "execution_count": null,
   "metadata": {},
   "outputs": [],
   "source": [
    "dbutils.library.restartPython()"
   ]
  },
  {
   "cell_type": "markdown",
   "metadata": {
    "application/vnd.databricks.v1+cell": {
     "cellMetadata": {},
     "inputWidgets": {},
     "nuid": "31e3fe75-3f9d-4bba-8076-5e943333afe5",
     "showTitle": false,
     "tableResultSettingsMap": {},
     "title": ""
    }
   },
   "source": [
    "## Install pgbench"
   ]
  },
  {
   "cell_type": "code",
   "execution_count": null,
   "metadata": {},
   "outputs": [],
   "source": [
    "%sh\n",
    "apt-get update && apt-get install -y wget gnupg lsb-release\n",
    "sh -c 'echo \"deb http://apt.postgresql.org/pub/repos/apt $(lsb_release -cs)-pgdg main\" \\\n",
    "    > /etc/apt/sources.list.d/pgdg.list'\n",
    "wget --quiet -O - https://www.postgresql.org/media/keys/ACCC4CF8.asc | apt-key add -\n",
    "apt-get update\n",
    "apt-get install -y postgresql-client-15"
   ]
  },
  {
   "cell_type": "code",
   "execution_count": 0,
   "metadata": {
    "application/vnd.databricks.v1+cell": {
     "cellMetadata": {},
     "inputWidgets": {},
     "nuid": "3d39414f-ad88-46ae-9493-7e9fae683b6b",
     "showTitle": false,
     "tableResultSettingsMap": {},
     "title": ""
    }
   },
   "outputs": [],
   "source": [
    "%sh\n",
    "apt-get install -y postgresql-contrib-15"
   ]
  },
  {
   "cell_type": "code",
   "execution_count": 0,
   "metadata": {
    "application/vnd.databricks.v1+cell": {
     "cellMetadata": {},
     "inputWidgets": {},
     "nuid": "742717e2-85ce-4a42-a8a3-7ceb71fb7fe7",
     "showTitle": false,
     "tableResultSettingsMap": {},
     "title": ""
    }
   },
   "outputs": [],
   "source": [
    "%sh\n",
    "pgbench --version"
   ]
  },
  {
   "cell_type": "markdown",
   "metadata": {
    "application/vnd.databricks.v1+cell": {
     "cellMetadata": {},
     "inputWidgets": {},
     "nuid": "fdfb1022-ea16-4614-9ec8-d69bef28c65c",
     "showTitle": false,
     "tableResultSettingsMap": {},
     "title": ""
    }
   },
   "source": [
    "## Python wrapper pgbench with multi queries"
   ]
  },
  {
   "cell_type": "code",
   "execution_count": 0,
   "metadata": {
    "application/vnd.databricks.v1+cell": {
     "cellMetadata": {},
     "inputWidgets": {},
     "nuid": "c360d9fb-e845-458a-b23e-8793aac5499e",
     "showTitle": false,
     "tableResultSettingsMap": {},
     "title": ""
    }
   },
   "outputs": [],
   "source": [
    "import os, subprocess, re, glob, numpy as np\n",
    "from databricks.sdk import WorkspaceClient\n",
    "import uuid, shutil as _shutil\n",
    "\n",
    "# -------------------------\n",
    "# 1) Connection env\n",
    "# -------------------------\n",
    "w = WorkspaceClient()\n",
    "instance = w.database.get_database_instance(name=\"ak-lakebase-accelerator-instance\")\n",
    "cred = w.database.generate_database_credential(request_id=str(uuid.uuid4()),\n",
    "                                               instance_names=[\"ak-lakebase-accelerator-instance\"])\n",
    "\n",
    "env = os.environ.copy()\n",
    "env.update({\n",
    "    \"PGHOST\": instance.read_write_dns,\n",
    "    \"PGPORT\": \"5432\",\n",
    "    \"PGDATABASE\": \"databricks_postgres\",\n",
    "    \"PGUSER\": w.current_user.me().user_name,\n",
    "    \"PGPASSWORD\": cred.token,\n",
    "    \"PGSSLMODE\": \"require\",\n",
    "})\n",
    "\n",
    "print(\"pgbench at:\", _shutil.which(\"pgbench\"))\n",
    "\n",
    "# -------------------------\n",
    "# 2) Write scripts locally\n",
    "# -------------------------\n",
    "workdir = \"/databricks/driver/pgbench_mix\"\n",
    "os.makedirs(workdir, exist_ok=True)\n",
    "\n",
    "point_path = os.path.join(workdir, \"point.sql\")\n",
    "range_path = os.path.join(workdir, \"range.sql\")\n",
    "agg_path   = os.path.join(workdir, \"agg.sql\")\n",
    "\n",
    "with open(point_path, \"w\") as f:\n",
    "    f.write(r\"\"\"\n",
    "\\set c_customer_sk random(0, 999)\n",
    "SELECT *\n",
    "FROM databricks_postgres.public.customer\n",
    "WHERE c_customer_sk = :c_customer_sk;\n",
    "\"\"\".strip() + \"\\n\")\n",
    "\n",
    "with open(range_path, \"w\") as f:\n",
    "    f.write(r\"\"\"\n",
    "\\set c_current_hdemo_sk random(1, 700)\n",
    "SELECT count(*)\n",
    "FROM databricks_postgres.public.customer\n",
    "WHERE c_current_hdemo_sk BETWEEN :c_current_hdemo_sk AND :c_current_hdemo_sk + 1000;\n",
    "\"\"\".strip() + \"\\n\")\n",
    "\n",
    "with open(agg_path, \"w\") as f:\n",
    "    f.write(r\"\"\"\n",
    "SELECT c_preferred_cust_flag, count(*)\n",
    "FROM databricks_postgres.public.customer\n",
    "GROUP BY c_preferred_cust_flag;\n",
    "\"\"\".strip() + \"\\n\")\n",
    "\n",
    "for p in (point_path, range_path, agg_path):\n",
    "    assert os.path.exists(p), f\"Missing script: {p}\"\n",
    "\n",
    "# -------------------------\n",
    "# 3) Build pgbench command\n",
    "#    (simulate weights 60/30/10)\n",
    "# -------------------------\n",
    "cmd = [\n",
    "    \"pgbench\",\n",
    "    \"-n\",\n",
    "    \"-c\", \"8\",\n",
    "    \"-j\", \"8\",\n",
    "    \"-T\", \"30\",\n",
    "    \"-P\", \"5\",\n",
    "    \"-M\", \"prepared\",\n",
    "    \"-r\",\n",
    "    \"-l\",\n",
    "]\n",
    "\n",
    "# Simulate weights by repeating -f\n",
    "weights = [(point_path, 60), (range_path, 30), (agg_path, 10)]\n",
    "for path, wgt in weights:\n",
    "    for _ in range(wgt):\n",
    "        cmd.extend([\"-f\", path])\n",
    "\n",
    "# -------------------------\n",
    "# 4) Run & parse output\n",
    "# -------------------------\n",
    "res = subprocess.run(cmd, capture_output=True, text=True, env=env, cwd=workdir)\n",
    "print(\"=== STDOUT ===\\n\", res.stdout)\n",
    "print(\"=== STDERR ===\\n\", res.stderr)\n",
    "\n",
    "if res.returncode != 0:\n",
    "    raise SystemExit(f\"pgbench failed (exit {res.returncode}). See STDERR above. Workdir: {workdir}\")\n",
    "\n",
    "m = re.search(r\"tps\\s*=\\s*([\\d\\.]+)\", res.stdout)\n",
    "tps = float(m.group(1)) if m else None\n",
    "print(\"TPS:\", tps)\n",
    "\n",
    "latencies = []\n",
    "for path in glob.glob(os.path.join(workdir, \"pgbench_log.*\")):\n",
    "    with open(path) as f:\n",
    "        for line in f:\n",
    "            parts = line.split()\n",
    "            if parts:\n",
    "                try:\n",
    "                    latencies.append(float(parts[-1]))  # last col = latency ms\n",
    "                except ValueError:\n",
    "                    pass\n",
    "\n",
    "if latencies:\n",
    "    p50, p95, p99 = np.percentile(latencies, [50, 95, 99])\n",
    "    print(f\"p50/p95/p99 (ms): {p50:.3f} / {p95:.3f} / {p99:.3f}\")\n",
    "else:\n",
    "    print(\"No pgbench_log.* found or no latencies parsed.\")\n",
    "\n",
    "print(\"Logs & scripts:\", workdir)"
   ]
  }
 ],
 "metadata": {
  "application/vnd.databricks.v1+notebook": {
   "computePreferences": null,
   "dashboards": [],
   "environmentMetadata": {
    "base_environment": "dbe_65bc13ea-276c-4905-a728-9fe2fb1780e2",
    "environment_version": "3"
   },
   "inputWidgetPreferences": null,
   "language": "python",
   "notebookMetadata": {
    "pythonIndentUnit": 2
   },
   "notebookName": "ctest_pgbench",
   "widgets": {}
  },
  "language_info": {
   "name": "python"
  }
 },
 "nbformat": 4,
 "nbformat_minor": 0
}
